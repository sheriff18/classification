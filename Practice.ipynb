{
  "nbformat": 4,
  "nbformat_minor": 0,
  "metadata": {
    "colab": {
      "provenance": [],
      "authorship_tag": "ABX9TyPIw1wOq9Ei4rFuD4Vn2eRg",
      "include_colab_link": true
    },
    "kernelspec": {
      "name": "python3",
      "display_name": "Python 3"
    },
    "language_info": {
      "name": "python"
    }
  },
  "cells": [
    {
      "cell_type": "markdown",
      "metadata": {
        "id": "view-in-github",
        "colab_type": "text"
      },
      "source": [
        "<a href=\"https://colab.research.google.com/github/sheriff18/Classification-in-Machine-Learning/blob/main/Practice.ipynb\" target=\"_parent\"><img src=\"https://colab.research.google.com/assets/colab-badge.svg\" alt=\"Open In Colab\"/></a>"
      ]
    },
    {
      "cell_type": "code",
      "execution_count": 14,
      "metadata": {
        "id": "taQPxmgeuzRh"
      },
      "outputs": [],
      "source": [
        "import pandas as pd\n",
        "import numpy as np\n",
        "import matplotlib as plt\n",
        "import seaborn as sns"
      ]
    },
    {
      "cell_type": "code",
      "source": [
        "import numpy as np\n",
        "import pandas as pd\n",
        "from matplotlib.pyplot import subplots\n",
        "from statsmodels.datasets import get_rdataset\n",
        "import sklearn.model_selection as skm\n"
      ],
      "metadata": {
        "id": "c8kkXdBiwBTh"
      },
      "execution_count": 15,
      "outputs": []
    },
    {
      "cell_type": "code",
      "source": [
        "housing = pd.read_csv(\"https://cf-courses-data.s3.us.cloud-object-storage.appdomain.cloud/IBM-ML0232EN-SkillsNetwork/asset/Ames_Housing_Data1.tsv\", sep = '\\t')\n",
        "housing.head(10)"
      ],
      "metadata": {
        "colab": {
          "base_uri": "https://localhost:8080/",
          "height": 429
        },
        "id": "N8-nt3nmwiFn",
        "outputId": "29c4e8ea-6990-40e0-cb5b-2522809c9732"
      },
      "execution_count": 16,
      "outputs": [
        {
          "output_type": "execute_result",
          "data": {
            "text/plain": [
              "   Order        PID  MS SubClass MS Zoning  Lot Frontage  Lot Area Street  \\\n",
              "0      1  526301100           20        RL         141.0     31770   Pave   \n",
              "1      1  526301100           20        RL         141.0     31770   Pave   \n",
              "2      2  526350040           20        RH          80.0     11622   Pave   \n",
              "3      3  526351010           20        RL          81.0     14267   Pave   \n",
              "4      4  526353030           20        RL          93.0     11160   Pave   \n",
              "5      5  527105010           60        RL          74.0     13830   Pave   \n",
              "6      6  527105030           60        RL          78.0      9978   Pave   \n",
              "7      7  527127150          120        RL          41.0      4920   Pave   \n",
              "8      8  527145080          120        RL          43.0      5005   Pave   \n",
              "9      9  527146030          120        RL          39.0      5389   Pave   \n",
              "\n",
              "  Alley Lot Shape Land Contour  ... Pool Area Pool QC  Fence Misc Feature  \\\n",
              "0   NaN       IR1          Lvl  ...         0     NaN    NaN          NaN   \n",
              "1   NaN       IR1          Lvl  ...         0     NaN    NaN          NaN   \n",
              "2   NaN       Reg          Lvl  ...         0     NaN  MnPrv          NaN   \n",
              "3   NaN       IR1          Lvl  ...         0     NaN    NaN         Gar2   \n",
              "4   NaN       Reg          Lvl  ...         0     NaN    NaN          NaN   \n",
              "5   NaN       IR1          Lvl  ...         0     NaN  MnPrv          NaN   \n",
              "6   NaN       IR1          Lvl  ...         0     NaN    NaN          NaN   \n",
              "7   NaN       Reg          Lvl  ...         0     NaN    NaN          NaN   \n",
              "8   NaN       IR1          HLS  ...         0     NaN    NaN          NaN   \n",
              "9   NaN       IR1          Lvl  ...         0     NaN    NaN          NaN   \n",
              "\n",
              "  Misc Val Mo Sold Yr Sold Sale Type  Sale Condition  SalePrice  \n",
              "0        0       5    2010       WD           Normal     215000  \n",
              "1        0       5    2010       WD           Normal     215000  \n",
              "2        0       6    2010       WD           Normal     105000  \n",
              "3    12500       6    2010       WD           Normal     172000  \n",
              "4        0       4    2010       WD           Normal     244000  \n",
              "5        0       3    2010       WD           Normal     189900  \n",
              "6        0       6    2010       WD           Normal     195500  \n",
              "7        0       4    2010       WD           Normal     213500  \n",
              "8        0       1    2010       WD           Normal     191500  \n",
              "9        0       3    2010       WD           Normal     236500  \n",
              "\n",
              "[10 rows x 82 columns]"
            ],
            "text/html": [
              "\n",
              "  <div id=\"df-a33b6c74-f248-4eda-88f8-167d15bdf2e9\" class=\"colab-df-container\">\n",
              "    <div>\n",
              "<style scoped>\n",
              "    .dataframe tbody tr th:only-of-type {\n",
              "        vertical-align: middle;\n",
              "    }\n",
              "\n",
              "    .dataframe tbody tr th {\n",
              "        vertical-align: top;\n",
              "    }\n",
              "\n",
              "    .dataframe thead th {\n",
              "        text-align: right;\n",
              "    }\n",
              "</style>\n",
              "<table border=\"1\" class=\"dataframe\">\n",
              "  <thead>\n",
              "    <tr style=\"text-align: right;\">\n",
              "      <th></th>\n",
              "      <th>Order</th>\n",
              "      <th>PID</th>\n",
              "      <th>MS SubClass</th>\n",
              "      <th>MS Zoning</th>\n",
              "      <th>Lot Frontage</th>\n",
              "      <th>Lot Area</th>\n",
              "      <th>Street</th>\n",
              "      <th>Alley</th>\n",
              "      <th>Lot Shape</th>\n",
              "      <th>Land Contour</th>\n",
              "      <th>...</th>\n",
              "      <th>Pool Area</th>\n",
              "      <th>Pool QC</th>\n",
              "      <th>Fence</th>\n",
              "      <th>Misc Feature</th>\n",
              "      <th>Misc Val</th>\n",
              "      <th>Mo Sold</th>\n",
              "      <th>Yr Sold</th>\n",
              "      <th>Sale Type</th>\n",
              "      <th>Sale Condition</th>\n",
              "      <th>SalePrice</th>\n",
              "    </tr>\n",
              "  </thead>\n",
              "  <tbody>\n",
              "    <tr>\n",
              "      <th>0</th>\n",
              "      <td>1</td>\n",
              "      <td>526301100</td>\n",
              "      <td>20</td>\n",
              "      <td>RL</td>\n",
              "      <td>141.0</td>\n",
              "      <td>31770</td>\n",
              "      <td>Pave</td>\n",
              "      <td>NaN</td>\n",
              "      <td>IR1</td>\n",
              "      <td>Lvl</td>\n",
              "      <td>...</td>\n",
              "      <td>0</td>\n",
              "      <td>NaN</td>\n",
              "      <td>NaN</td>\n",
              "      <td>NaN</td>\n",
              "      <td>0</td>\n",
              "      <td>5</td>\n",
              "      <td>2010</td>\n",
              "      <td>WD</td>\n",
              "      <td>Normal</td>\n",
              "      <td>215000</td>\n",
              "    </tr>\n",
              "    <tr>\n",
              "      <th>1</th>\n",
              "      <td>1</td>\n",
              "      <td>526301100</td>\n",
              "      <td>20</td>\n",
              "      <td>RL</td>\n",
              "      <td>141.0</td>\n",
              "      <td>31770</td>\n",
              "      <td>Pave</td>\n",
              "      <td>NaN</td>\n",
              "      <td>IR1</td>\n",
              "      <td>Lvl</td>\n",
              "      <td>...</td>\n",
              "      <td>0</td>\n",
              "      <td>NaN</td>\n",
              "      <td>NaN</td>\n",
              "      <td>NaN</td>\n",
              "      <td>0</td>\n",
              "      <td>5</td>\n",
              "      <td>2010</td>\n",
              "      <td>WD</td>\n",
              "      <td>Normal</td>\n",
              "      <td>215000</td>\n",
              "    </tr>\n",
              "    <tr>\n",
              "      <th>2</th>\n",
              "      <td>2</td>\n",
              "      <td>526350040</td>\n",
              "      <td>20</td>\n",
              "      <td>RH</td>\n",
              "      <td>80.0</td>\n",
              "      <td>11622</td>\n",
              "      <td>Pave</td>\n",
              "      <td>NaN</td>\n",
              "      <td>Reg</td>\n",
              "      <td>Lvl</td>\n",
              "      <td>...</td>\n",
              "      <td>0</td>\n",
              "      <td>NaN</td>\n",
              "      <td>MnPrv</td>\n",
              "      <td>NaN</td>\n",
              "      <td>0</td>\n",
              "      <td>6</td>\n",
              "      <td>2010</td>\n",
              "      <td>WD</td>\n",
              "      <td>Normal</td>\n",
              "      <td>105000</td>\n",
              "    </tr>\n",
              "    <tr>\n",
              "      <th>3</th>\n",
              "      <td>3</td>\n",
              "      <td>526351010</td>\n",
              "      <td>20</td>\n",
              "      <td>RL</td>\n",
              "      <td>81.0</td>\n",
              "      <td>14267</td>\n",
              "      <td>Pave</td>\n",
              "      <td>NaN</td>\n",
              "      <td>IR1</td>\n",
              "      <td>Lvl</td>\n",
              "      <td>...</td>\n",
              "      <td>0</td>\n",
              "      <td>NaN</td>\n",
              "      <td>NaN</td>\n",
              "      <td>Gar2</td>\n",
              "      <td>12500</td>\n",
              "      <td>6</td>\n",
              "      <td>2010</td>\n",
              "      <td>WD</td>\n",
              "      <td>Normal</td>\n",
              "      <td>172000</td>\n",
              "    </tr>\n",
              "    <tr>\n",
              "      <th>4</th>\n",
              "      <td>4</td>\n",
              "      <td>526353030</td>\n",
              "      <td>20</td>\n",
              "      <td>RL</td>\n",
              "      <td>93.0</td>\n",
              "      <td>11160</td>\n",
              "      <td>Pave</td>\n",
              "      <td>NaN</td>\n",
              "      <td>Reg</td>\n",
              "      <td>Lvl</td>\n",
              "      <td>...</td>\n",
              "      <td>0</td>\n",
              "      <td>NaN</td>\n",
              "      <td>NaN</td>\n",
              "      <td>NaN</td>\n",
              "      <td>0</td>\n",
              "      <td>4</td>\n",
              "      <td>2010</td>\n",
              "      <td>WD</td>\n",
              "      <td>Normal</td>\n",
              "      <td>244000</td>\n",
              "    </tr>\n",
              "    <tr>\n",
              "      <th>5</th>\n",
              "      <td>5</td>\n",
              "      <td>527105010</td>\n",
              "      <td>60</td>\n",
              "      <td>RL</td>\n",
              "      <td>74.0</td>\n",
              "      <td>13830</td>\n",
              "      <td>Pave</td>\n",
              "      <td>NaN</td>\n",
              "      <td>IR1</td>\n",
              "      <td>Lvl</td>\n",
              "      <td>...</td>\n",
              "      <td>0</td>\n",
              "      <td>NaN</td>\n",
              "      <td>MnPrv</td>\n",
              "      <td>NaN</td>\n",
              "      <td>0</td>\n",
              "      <td>3</td>\n",
              "      <td>2010</td>\n",
              "      <td>WD</td>\n",
              "      <td>Normal</td>\n",
              "      <td>189900</td>\n",
              "    </tr>\n",
              "    <tr>\n",
              "      <th>6</th>\n",
              "      <td>6</td>\n",
              "      <td>527105030</td>\n",
              "      <td>60</td>\n",
              "      <td>RL</td>\n",
              "      <td>78.0</td>\n",
              "      <td>9978</td>\n",
              "      <td>Pave</td>\n",
              "      <td>NaN</td>\n",
              "      <td>IR1</td>\n",
              "      <td>Lvl</td>\n",
              "      <td>...</td>\n",
              "      <td>0</td>\n",
              "      <td>NaN</td>\n",
              "      <td>NaN</td>\n",
              "      <td>NaN</td>\n",
              "      <td>0</td>\n",
              "      <td>6</td>\n",
              "      <td>2010</td>\n",
              "      <td>WD</td>\n",
              "      <td>Normal</td>\n",
              "      <td>195500</td>\n",
              "    </tr>\n",
              "    <tr>\n",
              "      <th>7</th>\n",
              "      <td>7</td>\n",
              "      <td>527127150</td>\n",
              "      <td>120</td>\n",
              "      <td>RL</td>\n",
              "      <td>41.0</td>\n",
              "      <td>4920</td>\n",
              "      <td>Pave</td>\n",
              "      <td>NaN</td>\n",
              "      <td>Reg</td>\n",
              "      <td>Lvl</td>\n",
              "      <td>...</td>\n",
              "      <td>0</td>\n",
              "      <td>NaN</td>\n",
              "      <td>NaN</td>\n",
              "      <td>NaN</td>\n",
              "      <td>0</td>\n",
              "      <td>4</td>\n",
              "      <td>2010</td>\n",
              "      <td>WD</td>\n",
              "      <td>Normal</td>\n",
              "      <td>213500</td>\n",
              "    </tr>\n",
              "    <tr>\n",
              "      <th>8</th>\n",
              "      <td>8</td>\n",
              "      <td>527145080</td>\n",
              "      <td>120</td>\n",
              "      <td>RL</td>\n",
              "      <td>43.0</td>\n",
              "      <td>5005</td>\n",
              "      <td>Pave</td>\n",
              "      <td>NaN</td>\n",
              "      <td>IR1</td>\n",
              "      <td>HLS</td>\n",
              "      <td>...</td>\n",
              "      <td>0</td>\n",
              "      <td>NaN</td>\n",
              "      <td>NaN</td>\n",
              "      <td>NaN</td>\n",
              "      <td>0</td>\n",
              "      <td>1</td>\n",
              "      <td>2010</td>\n",
              "      <td>WD</td>\n",
              "      <td>Normal</td>\n",
              "      <td>191500</td>\n",
              "    </tr>\n",
              "    <tr>\n",
              "      <th>9</th>\n",
              "      <td>9</td>\n",
              "      <td>527146030</td>\n",
              "      <td>120</td>\n",
              "      <td>RL</td>\n",
              "      <td>39.0</td>\n",
              "      <td>5389</td>\n",
              "      <td>Pave</td>\n",
              "      <td>NaN</td>\n",
              "      <td>IR1</td>\n",
              "      <td>Lvl</td>\n",
              "      <td>...</td>\n",
              "      <td>0</td>\n",
              "      <td>NaN</td>\n",
              "      <td>NaN</td>\n",
              "      <td>NaN</td>\n",
              "      <td>0</td>\n",
              "      <td>3</td>\n",
              "      <td>2010</td>\n",
              "      <td>WD</td>\n",
              "      <td>Normal</td>\n",
              "      <td>236500</td>\n",
              "    </tr>\n",
              "  </tbody>\n",
              "</table>\n",
              "<p>10 rows × 82 columns</p>\n",
              "</div>\n",
              "    <div class=\"colab-df-buttons\">\n",
              "\n",
              "  <div class=\"colab-df-container\">\n",
              "    <button class=\"colab-df-convert\" onclick=\"convertToInteractive('df-a33b6c74-f248-4eda-88f8-167d15bdf2e9')\"\n",
              "            title=\"Convert this dataframe to an interactive table.\"\n",
              "            style=\"display:none;\">\n",
              "\n",
              "  <svg xmlns=\"http://www.w3.org/2000/svg\" height=\"24px\" viewBox=\"0 -960 960 960\">\n",
              "    <path d=\"M120-120v-720h720v720H120Zm60-500h600v-160H180v160Zm220 220h160v-160H400v160Zm0 220h160v-160H400v160ZM180-400h160v-160H180v160Zm440 0h160v-160H620v160ZM180-180h160v-160H180v160Zm440 0h160v-160H620v160Z\"/>\n",
              "  </svg>\n",
              "    </button>\n",
              "\n",
              "  <style>\n",
              "    .colab-df-container {\n",
              "      display:flex;\n",
              "      gap: 12px;\n",
              "    }\n",
              "\n",
              "    .colab-df-convert {\n",
              "      background-color: #E8F0FE;\n",
              "      border: none;\n",
              "      border-radius: 50%;\n",
              "      cursor: pointer;\n",
              "      display: none;\n",
              "      fill: #1967D2;\n",
              "      height: 32px;\n",
              "      padding: 0 0 0 0;\n",
              "      width: 32px;\n",
              "    }\n",
              "\n",
              "    .colab-df-convert:hover {\n",
              "      background-color: #E2EBFA;\n",
              "      box-shadow: 0px 1px 2px rgba(60, 64, 67, 0.3), 0px 1px 3px 1px rgba(60, 64, 67, 0.15);\n",
              "      fill: #174EA6;\n",
              "    }\n",
              "\n",
              "    .colab-df-buttons div {\n",
              "      margin-bottom: 4px;\n",
              "    }\n",
              "\n",
              "    [theme=dark] .colab-df-convert {\n",
              "      background-color: #3B4455;\n",
              "      fill: #D2E3FC;\n",
              "    }\n",
              "\n",
              "    [theme=dark] .colab-df-convert:hover {\n",
              "      background-color: #434B5C;\n",
              "      box-shadow: 0px 1px 3px 1px rgba(0, 0, 0, 0.15);\n",
              "      filter: drop-shadow(0px 1px 2px rgba(0, 0, 0, 0.3));\n",
              "      fill: #FFFFFF;\n",
              "    }\n",
              "  </style>\n",
              "\n",
              "    <script>\n",
              "      const buttonEl =\n",
              "        document.querySelector('#df-a33b6c74-f248-4eda-88f8-167d15bdf2e9 button.colab-df-convert');\n",
              "      buttonEl.style.display =\n",
              "        google.colab.kernel.accessAllowed ? 'block' : 'none';\n",
              "\n",
              "      async function convertToInteractive(key) {\n",
              "        const element = document.querySelector('#df-a33b6c74-f248-4eda-88f8-167d15bdf2e9');\n",
              "        const dataTable =\n",
              "          await google.colab.kernel.invokeFunction('convertToInteractive',\n",
              "                                                    [key], {});\n",
              "        if (!dataTable) return;\n",
              "\n",
              "        const docLinkHtml = 'Like what you see? Visit the ' +\n",
              "          '<a target=\"_blank\" href=https://colab.research.google.com/notebooks/data_table.ipynb>data table notebook</a>'\n",
              "          + ' to learn more about interactive tables.';\n",
              "        element.innerHTML = '';\n",
              "        dataTable['output_type'] = 'display_data';\n",
              "        await google.colab.output.renderOutput(dataTable, element);\n",
              "        const docLink = document.createElement('div');\n",
              "        docLink.innerHTML = docLinkHtml;\n",
              "        element.appendChild(docLink);\n",
              "      }\n",
              "    </script>\n",
              "  </div>\n",
              "\n",
              "\n",
              "<div id=\"df-9af041ed-40b1-4d32-89a2-97bd6a4a1c3b\">\n",
              "  <button class=\"colab-df-quickchart\" onclick=\"quickchart('df-9af041ed-40b1-4d32-89a2-97bd6a4a1c3b')\"\n",
              "            title=\"Suggest charts\"\n",
              "            style=\"display:none;\">\n",
              "\n",
              "<svg xmlns=\"http://www.w3.org/2000/svg\" height=\"24px\"viewBox=\"0 0 24 24\"\n",
              "     width=\"24px\">\n",
              "    <g>\n",
              "        <path d=\"M19 3H5c-1.1 0-2 .9-2 2v14c0 1.1.9 2 2 2h14c1.1 0 2-.9 2-2V5c0-1.1-.9-2-2-2zM9 17H7v-7h2v7zm4 0h-2V7h2v10zm4 0h-2v-4h2v4z\"/>\n",
              "    </g>\n",
              "</svg>\n",
              "  </button>\n",
              "\n",
              "<style>\n",
              "  .colab-df-quickchart {\n",
              "      --bg-color: #E8F0FE;\n",
              "      --fill-color: #1967D2;\n",
              "      --hover-bg-color: #E2EBFA;\n",
              "      --hover-fill-color: #174EA6;\n",
              "      --disabled-fill-color: #AAA;\n",
              "      --disabled-bg-color: #DDD;\n",
              "  }\n",
              "\n",
              "  [theme=dark] .colab-df-quickchart {\n",
              "      --bg-color: #3B4455;\n",
              "      --fill-color: #D2E3FC;\n",
              "      --hover-bg-color: #434B5C;\n",
              "      --hover-fill-color: #FFFFFF;\n",
              "      --disabled-bg-color: #3B4455;\n",
              "      --disabled-fill-color: #666;\n",
              "  }\n",
              "\n",
              "  .colab-df-quickchart {\n",
              "    background-color: var(--bg-color);\n",
              "    border: none;\n",
              "    border-radius: 50%;\n",
              "    cursor: pointer;\n",
              "    display: none;\n",
              "    fill: var(--fill-color);\n",
              "    height: 32px;\n",
              "    padding: 0;\n",
              "    width: 32px;\n",
              "  }\n",
              "\n",
              "  .colab-df-quickchart:hover {\n",
              "    background-color: var(--hover-bg-color);\n",
              "    box-shadow: 0 1px 2px rgba(60, 64, 67, 0.3), 0 1px 3px 1px rgba(60, 64, 67, 0.15);\n",
              "    fill: var(--button-hover-fill-color);\n",
              "  }\n",
              "\n",
              "  .colab-df-quickchart-complete:disabled,\n",
              "  .colab-df-quickchart-complete:disabled:hover {\n",
              "    background-color: var(--disabled-bg-color);\n",
              "    fill: var(--disabled-fill-color);\n",
              "    box-shadow: none;\n",
              "  }\n",
              "\n",
              "  .colab-df-spinner {\n",
              "    border: 2px solid var(--fill-color);\n",
              "    border-color: transparent;\n",
              "    border-bottom-color: var(--fill-color);\n",
              "    animation:\n",
              "      spin 1s steps(1) infinite;\n",
              "  }\n",
              "\n",
              "  @keyframes spin {\n",
              "    0% {\n",
              "      border-color: transparent;\n",
              "      border-bottom-color: var(--fill-color);\n",
              "      border-left-color: var(--fill-color);\n",
              "    }\n",
              "    20% {\n",
              "      border-color: transparent;\n",
              "      border-left-color: var(--fill-color);\n",
              "      border-top-color: var(--fill-color);\n",
              "    }\n",
              "    30% {\n",
              "      border-color: transparent;\n",
              "      border-left-color: var(--fill-color);\n",
              "      border-top-color: var(--fill-color);\n",
              "      border-right-color: var(--fill-color);\n",
              "    }\n",
              "    40% {\n",
              "      border-color: transparent;\n",
              "      border-right-color: var(--fill-color);\n",
              "      border-top-color: var(--fill-color);\n",
              "    }\n",
              "    60% {\n",
              "      border-color: transparent;\n",
              "      border-right-color: var(--fill-color);\n",
              "    }\n",
              "    80% {\n",
              "      border-color: transparent;\n",
              "      border-right-color: var(--fill-color);\n",
              "      border-bottom-color: var(--fill-color);\n",
              "    }\n",
              "    90% {\n",
              "      border-color: transparent;\n",
              "      border-bottom-color: var(--fill-color);\n",
              "    }\n",
              "  }\n",
              "</style>\n",
              "\n",
              "  <script>\n",
              "    async function quickchart(key) {\n",
              "      const quickchartButtonEl =\n",
              "        document.querySelector('#' + key + ' button');\n",
              "      quickchartButtonEl.disabled = true;  // To prevent multiple clicks.\n",
              "      quickchartButtonEl.classList.add('colab-df-spinner');\n",
              "      try {\n",
              "        const charts = await google.colab.kernel.invokeFunction(\n",
              "            'suggestCharts', [key], {});\n",
              "      } catch (error) {\n",
              "        console.error('Error during call to suggestCharts:', error);\n",
              "      }\n",
              "      quickchartButtonEl.classList.remove('colab-df-spinner');\n",
              "      quickchartButtonEl.classList.add('colab-df-quickchart-complete');\n",
              "    }\n",
              "    (() => {\n",
              "      let quickchartButtonEl =\n",
              "        document.querySelector('#df-9af041ed-40b1-4d32-89a2-97bd6a4a1c3b button');\n",
              "      quickchartButtonEl.style.display =\n",
              "        google.colab.kernel.accessAllowed ? 'block' : 'none';\n",
              "    })();\n",
              "  </script>\n",
              "</div>\n",
              "    </div>\n",
              "  </div>\n"
            ]
          },
          "metadata": {},
          "execution_count": 16
        }
      ]
    },
    {
      "cell_type": "code",
      "source": [
        "x = housing[:-1].select_dtypes(include = ['float64','float32','int64'])\n",
        "y = housing['SalePrice']"
      ],
      "metadata": {
        "id": "CewGzDkEyAOG"
      },
      "execution_count": 20,
      "outputs": []
    },
    {
      "cell_type": "code",
      "source": [
        "sns.boxplot(x)\n",
        "sns.violinplot(x)"
      ],
      "metadata": {
        "colab": {
          "base_uri": "https://localhost:8080/",
          "height": 463
        },
        "id": "jVBtN_ulzCM8",
        "outputId": "c265a23d-aff2-4d9d-e0be-bf27217a9400"
      },
      "execution_count": 22,
      "outputs": [
        {
          "output_type": "execute_result",
          "data": {
            "text/plain": [
              "<Axes: >"
            ]
          },
          "metadata": {},
          "execution_count": 22
        },
        {
          "output_type": "display_data",
          "data": {
            "text/plain": [
              "<Figure size 640x480 with 1 Axes>"
            ],
            "image/png": "[encoded data removed]"
          },
          "metadata": {}
        }
      ]
    },
    {
      "cell_type": "code",
      "source": [
        "Q1 = housing['SalePrice'].quantile(0.25)\n",
        "Q3 = housing['SalePrice'].quantile(0.75)\n",
        "IQR  = Q3 - Q1\n",
        "outlier  = (( housing['SalePrice']< (Q1 - 1.5 * IQR)) | (housing['SalePrice']> (Q3 + 1.5 * IQR)))\n",
        "housing['SalePrice'][outlier]\n"
      ],
      "metadata": {
        "colab": {
          "base_uri": "https://localhost:8080/"
        },
        "id": "vLyt2P-fzZuX",
        "outputId": "87bd9a67-b7d6-46fb-b793-fc3769708a93"
      },
      "execution_count": 29,
      "outputs": [
        {
          "output_type": "execute_result",
          "data": {
            "text/plain": [
              "16      538000\n",
              "18      394432\n",
              "37      376162\n",
              "39      395192\n",
              "45      611657\n",
              "         ...  \n",
              "2667    475000\n",
              "2738    415000\n",
              "2884    375000\n",
              "2902    369900\n",
              "2903    359900\n",
              "Name: SalePrice, Length: 137, dtype: int64"
            ]
          },
          "metadata": {},
          "execution_count": 29
        }
      ]
    },
    {
      "cell_type": "code",
      "source": [
        " for i in range(8,0,-1):\n",
        "  print(i)\n"
      ],
      "metadata": {
        "colab": {
          "base_uri": "https://localhost:8080/"
        },
        "id": "R-Le8HvEy6Nu",
        "outputId": "9893f937-61b9-4b2d-ccc2-f86bc7b8c9f2"
      },
      "execution_count": 1,
      "outputs": [
        {
          "output_type": "stream",
          "name": "stdout",
          "text": [
            "8\n",
            "7\n",
            "6\n",
            "5\n",
            "4\n",
            "3\n",
            "2\n",
            "1\n"
          ]
        }
      ]
    },
    {
      "cell_type": "code",
      "source": [
        "import numpy as np\n",
        "import pandas as pd\n",
        "\n",
        "# Generate a random number from the normal distribution\n",
        "def generate_normal_random_number(mean: int,std_deviation:int):\n",
        "  number = np.random.normal(mean,std_deviation)\n",
        "  return number"
      ],
      "metadata": {
        "id": "DVzFKSEs40ZW"
      },
      "execution_count": 2,
      "outputs": []
    },
    {
      "cell_type": "code",
      "source": [],
      "metadata": {
        "id": "bx6EHTupwffg"
      },
      "execution_count": null,
      "outputs": []
    },
    {
      "cell_type": "code",
      "source": [
        "generate_normal_random_number(0,1)"
      ],
      "metadata": {
        "colab": {
          "base_uri": "https://localhost:8080/"
        },
        "id": "bo_rCnZ6ylNX",
        "outputId": "09bb05aa-779d-49de-eca4-39f363f9b8f7"
      },
      "execution_count": 3,
      "outputs": [
        {
          "output_type": "execute_result",
          "data": {
            "text/plain": [
              "1.497308901303652"
            ]
          },
          "metadata": {},
          "execution_count": 3
        }
      ]
    },
    {
      "cell_type": "code",
      "source": [],
      "metadata": {
        "id": "zuZInMBwwgxV"
      },
      "execution_count": null,
      "outputs": []
    },
    {
      "cell_type": "code",
      "source": [],
      "metadata": {
        "id": "95YA7DX6wdGl"
      },
      "execution_count": null,
      "outputs": []
    },
    {
      "cell_type": "code",
      "source": [
        "def generate_binomial_random_number(n,p):\n",
        "  number = np.random.binomial(n,p)\n",
        "  return number"
      ],
      "metadata": {
        "id": "ycfPJiwLFNrk"
      },
      "execution_count": 18,
      "outputs": []
    },
    {
      "cell_type": "code",
      "source": [
        "generate_binomial_random_number(12,0.5)"
      ],
      "metadata": {
        "colab": {
          "base_uri": "https://localhost:8080/"
        },
        "id": "JyVaTe6PFZ8R",
        "outputId": "1fb3ae3b-509e-4e4b-9f90-4e2392467317"
      },
      "execution_count": 28,
      "outputs": [
        {
          "output_type": "execute_result",
          "data": {
            "text/plain": [
              "7"
            ]
          },
          "metadata": {},
          "execution_count": 28
        }
      ]
    },
    {
      "cell_type": "code",
      "source": [
        "def generate_uniform_random_number(low, high):\n",
        "    number = np.random.uniform(low, high)\n",
        "    return number"
      ],
      "metadata": {
        "id": "OBjKi_fVyGc7"
      },
      "execution_count": 5,
      "outputs": []
    },
    {
      "cell_type": "code",
      "source": [],
      "metadata": {
        "id": "Hv5SdmTWmP9t"
      },
      "execution_count": null,
      "outputs": []
    },
    {
      "cell_type": "code",
      "source": [],
      "metadata": {
        "id": "EcgBQgGsxF5N"
      },
      "execution_count": null,
      "outputs": []
    },
    {
      "cell_type": "code",
      "source": [
        "generate_uniform_random_number(-1,1)"
      ],
      "metadata": {
        "colab": {
          "base_uri": "https://localhost:8080/"
        },
        "id": "0Fplxtabv__U",
        "outputId": "339feccf-d256-487d-ae2c-3c45a44bb192"
      },
      "execution_count": 6,
      "outputs": [
        {
          "output_type": "execute_result",
          "data": {
            "text/plain": [
              "-0.050904687750287225"
            ]
          },
          "metadata": {},
          "execution_count": 6
        }
      ]
    },
    {
      "cell_type": "code",
      "source": [],
      "metadata": {
        "id": "EPVHwgQvxGf0"
      },
      "execution_count": null,
      "outputs": []
    },
    {
      "cell_type": "code",
      "source": [],
      "metadata": {
        "id": "C4PilcEfxEs8"
      },
      "execution_count": null,
      "outputs": []
    },
    {
      "cell_type": "code",
      "source": [
        "import seaborn as sns\n",
        "import matplotlib.pyplot as plt\n",
        "\n",
        "plt.hist(np.random.randn(1,100))"
      ],
      "metadata": {
        "colab": {
          "base_uri": "https://localhost:8080/",
          "height": 1000
        },
        "id": "zJyoMl8DvpC7",
        "outputId": "192eecd6-3a88-454a-956b-a543c8291e00"
      },
      "execution_count": 14,
      "outputs": [
        {
          "output_type": "execute_result",
          "data": {
            "text/plain": [
              "(array([[1., 0., 0., 0., 0., 0., 0., 0., 0., 0.],\n",
              "        [0., 0., 0., 0., 0., 1., 0., 0., 0., 0.],\n",
              "        [0., 0., 0., 0., 0., 1., 0., 0., 0., 0.],\n",
              "        [0., 0., 0., 0., 0., 0., 0., 0., 0., 1.],\n",
              "        [0., 0., 0., 0., 1., 0., 0., 0., 0., 0.],\n",
              "        [0., 0., 0., 1., 0., 0., 0., 0., 0., 0.],\n",
              "        [0., 0., 0., 0., 0., 1., 0., 0., 0., 0.],\n",
              "        [0., 0., 0., 0., 0., 1., 0., 0., 0., 0.],\n",
              "        [0., 0., 0., 0., 0., 1., 0., 0., 0., 0.],\n",
              "        [0., 0., 0., 0., 0., 1., 0., 0., 0., 0.],\n",
              "        [0., 0., 0., 1., 0., 0., 0., 0., 0., 0.],\n",
              "        [0., 0., 0., 0., 0., 0., 1., 0., 0., 0.],\n",
              "        [0., 0., 0., 0., 0., 0., 0., 0., 1., 0.],\n",
              "        [0., 0., 0., 0., 1., 0., 0., 0., 0., 0.],\n",
              "        [0., 0., 0., 0., 0., 0., 0., 0., 0., 1.],\n",
              "        [0., 1., 0., 0., 0., 0., 0., 0., 0., 0.],\n",
              "        [0., 0., 0., 0., 0., 0., 0., 1., 0., 0.],\n",
              "        [0., 0., 0., 0., 1., 0., 0., 0., 0., 0.],\n",
              "        [0., 0., 0., 1., 0., 0., 0., 0., 0., 0.],\n",
              "        [0., 0., 0., 0., 0., 1., 0., 0., 0., 0.],\n",
              "        [0., 0., 0., 0., 1., 0., 0., 0., 0., 0.],\n",
              "        [0., 0., 0., 0., 1., 0., 0., 0., 0., 0.],\n",
              "        [0., 0., 0., 0., 0., 0., 1., 0., 0., 0.],\n",
              "        [0., 0., 0., 0., 0., 0., 0., 0., 0., 1.],\n",
              "        [0., 0., 0., 1., 0., 0., 0., 0., 0., 0.],\n",
              "        [0., 0., 0., 0., 0., 0., 1., 0., 0., 0.],\n",
              "        [0., 0., 0., 0., 0., 0., 0., 1., 0., 0.],\n",
              "        [0., 0., 0., 0., 0., 1., 0., 0., 0., 0.],\n",
              "        [0., 0., 0., 0., 0., 0., 0., 1., 0., 0.],\n",
              "        [0., 0., 0., 0., 0., 1., 0., 0., 0., 0.],\n",
              "        [0., 0., 0., 0., 1., 0., 0., 0., 0., 0.],\n",
              "        [0., 0., 0., 1., 0., 0., 0., 0., 0., 0.],\n",
              "        [0., 0., 0., 0., 0., 1., 0., 0., 0., 0.],\n",
              "        [0., 0., 0., 0., 0., 1., 0., 0., 0., 0.],\n",
              "        [1., 0., 0., 0., 0., 0., 0., 0., 0., 0.],\n",
              "        [0., 0., 0., 1., 0., 0., 0., 0., 0., 0.],\n",
              "        [0., 0., 0., 0., 0., 0., 1., 0., 0., 0.],\n",
              "        [0., 0., 0., 0., 0., 0., 1., 0., 0., 0.],\n",
              "        [0., 0., 0., 1., 0., 0., 0., 0., 0., 0.],\n",
              "        [0., 0., 1., 0., 0., 0., 0., 0., 0., 0.],\n",
              "        [0., 0., 1., 0., 0., 0., 0., 0., 0., 0.],\n",
              "        [0., 0., 0., 0., 0., 0., 0., 1., 0., 0.],\n",
              "        [0., 0., 0., 0., 0., 1., 0., 0., 0., 0.],\n",
              "        [0., 0., 0., 0., 1., 0., 0., 0., 0., 0.],\n",
              "        [0., 0., 0., 0., 0., 1., 0., 0., 0., 0.],\n",
              "        [0., 0., 0., 0., 0., 1., 0., 0., 0., 0.],\n",
              "        [0., 0., 0., 0., 0., 0., 1., 0., 0., 0.],\n",
              "        [0., 0., 0., 0., 1., 0., 0., 0., 0., 0.],\n",
              "        [0., 1., 0., 0., 0., 0., 0., 0., 0., 0.],\n",
              "        [0., 0., 1., 0., 0., 0., 0., 0., 0., 0.],\n",
              "        [0., 0., 0., 0., 0., 0., 0., 0., 1., 0.],\n",
              "        [0., 0., 0., 0., 0., 0., 1., 0., 0., 0.],\n",
              "        [0., 0., 0., 0., 0., 1., 0., 0., 0., 0.],\n",
              "        [0., 0., 0., 0., 1., 0., 0., 0., 0., 0.],\n",
              "        [0., 0., 1., 0., 0., 0., 0., 0., 0., 0.],\n",
              "        [0., 0., 0., 0., 0., 1., 0., 0., 0., 0.],\n",
              "        [0., 0., 0., 0., 0., 1., 0., 0., 0., 0.],\n",
              "        [0., 0., 0., 0., 0., 0., 0., 1., 0., 0.],\n",
              "        [0., 0., 0., 1., 0., 0., 0., 0., 0., 0.],\n",
              "        [0., 0., 1., 0., 0., 0., 0., 0., 0., 0.],\n",
              "        [0., 0., 0., 0., 0., 1., 0., 0., 0., 0.],\n",
              "        [0., 0., 0., 0., 0., 0., 1., 0., 0., 0.],\n",
              "        [0., 0., 0., 0., 0., 0., 0., 1., 0., 0.],\n",
              "        [0., 0., 0., 0., 0., 0., 0., 1., 0., 0.],\n",
              "        [0., 0., 0., 0., 1., 0., 0., 0., 0., 0.],\n",
              "        [0., 0., 0., 0., 1., 0., 0., 0., 0., 0.],\n",
              "        [0., 0., 0., 0., 1., 0., 0., 0., 0., 0.],\n",
              "        [0., 0., 0., 1., 0., 0., 0., 0., 0., 0.],\n",
              "        [0., 0., 0., 0., 0., 0., 0., 0., 1., 0.],\n",
              "        [0., 0., 0., 0., 0., 1., 0., 0., 0., 0.],\n",
              "        [0., 0., 0., 0., 0., 0., 1., 0., 0., 0.],\n",
              "        [0., 0., 0., 0., 0., 0., 1., 0., 0., 0.],\n",
              "        [0., 0., 0., 0., 0., 0., 1., 0., 0., 0.],\n",
              "        [0., 0., 0., 1., 0., 0., 0., 0., 0., 0.],\n",
              "        [0., 0., 0., 0., 0., 0., 0., 0., 1., 0.],\n",
              "        [0., 0., 0., 1., 0., 0., 0., 0., 0., 0.],\n",
              "        [0., 0., 0., 0., 0., 0., 0., 1., 0., 0.],\n",
              "        [0., 0., 0., 0., 0., 0., 0., 1., 0., 0.],\n",
              "        [0., 0., 0., 0., 1., 0., 0., 0., 0., 0.],\n",
              "        [0., 0., 0., 0., 0., 0., 1., 0., 0., 0.],\n",
              "        [0., 0., 0., 0., 0., 0., 0., 1., 0., 0.],\n",
              "        [0., 0., 0., 0., 1., 0., 0., 0., 0., 0.],\n",
              "        [1., 0., 0., 0., 0., 0., 0., 0., 0., 0.],\n",
              "        [0., 0., 0., 0., 1., 0., 0., 0., 0., 0.],\n",
              "        [0., 0., 1., 0., 0., 0., 0., 0., 0., 0.],\n",
              "        [0., 0., 0., 0., 0., 1., 0., 0., 0., 0.],\n",
              "        [0., 0., 1., 0., 0., 0., 0., 0., 0., 0.],\n",
              "        [0., 0., 0., 0., 0., 0., 1., 0., 0., 0.],\n",
              "        [0., 0., 0., 1., 0., 0., 0., 0., 0., 0.],\n",
              "        [0., 0., 0., 0., 1., 0., 0., 0., 0., 0.],\n",
              "        [0., 0., 0., 0., 1., 0., 0., 0., 0., 0.],\n",
              "        [0., 0., 0., 0., 0., 0., 0., 0., 1., 0.],\n",
              "        [0., 1., 0., 0., 0., 0., 0., 0., 0., 0.],\n",
              "        [0., 0., 0., 0., 1., 0., 0., 0., 0., 0.],\n",
              "        [0., 0., 1., 0., 0., 0., 0., 0., 0., 0.],\n",
              "        [0., 0., 0., 0., 0., 1., 0., 0., 0., 0.],\n",
              "        [0., 0., 0., 0., 1., 0., 0., 0., 0., 0.],\n",
              "        [0., 0., 0., 0., 0., 0., 0., 1., 0., 0.],\n",
              "        [0., 0., 0., 1., 0., 0., 0., 0., 0., 0.],\n",
              "        [0., 0., 0., 0., 0., 0., 0., 0., 0., 1.]]),\n",
              " array([-2.58178626, -2.08414608, -1.58650589, -1.08886571, -0.59122553,\n",
              "        -0.09358534,  0.40405484,  0.90169502,  1.39933521,  1.89697539,\n",
              "         2.39461557]),\n",
              " <a list of 100 BarContainer objects>)"
            ]
          },
          "metadata": {},
          "execution_count": 14
        },
        {
          "output_type": "display_data",
          "data": {
            "text/plain": [
              "<Figure size 640x480 with 1 Axes>"
            ],
            "image/png": "[encoded data removed]"
          },
          "metadata": {}
        }
      ]
    },
    {
      "cell_type": "code",
      "source": [
        "from collections import Counter\n",
        "def mde(nums : list):\n",
        "    list_count = Counter(list)\n",
        "    max_count = max(list_count.values())\n",
        "    modes = [a for a,b in list_count.items if max_count == b]\n",
        "    modes.sort()"
      ],
      "metadata": {
        "id": "WejYd_t7vkL_"
      },
      "execution_count": 39,
      "outputs": []
    },
    {
      "cell_type": "code",
      "source": [
        "# find mode\n",
        "\n",
        "from collections import Counter\n",
        "\n",
        "def mode(nums):\n",
        "\n",
        "  counts = Counter(nums)\n",
        "  max_count = max(counts.values())\n",
        "  modes = [num for num, count in counts.items() if count == max_count]\n",
        "\n",
        "  # Sort the modes in ascending order.\n",
        "  modes.sort()\n",
        "\n",
        "  return modes\n",
        "\n",
        "# Example usage\n",
        "nums = [1, 2, 2, 3,3,3,4,4, 4]\n",
        "modes = mode(nums)\n",
        "print(f\"Mode(s) of {nums}: {modes}\")\n"
      ],
      "metadata": {
        "colab": {
          "base_uri": "https://localhost:8080/"
        },
        "id": "ayDyv6JZvegO",
        "outputId": "e667e47d-98d4-4b0d-ca79-2d21038c1ce6"
      },
      "execution_count": 46,
      "outputs": [
        {
          "output_type": "stream",
          "name": "stdout",
          "text": [
            "Mode(s) of [1, 2, 2, 3, 3, 3, 4, 4, 4]: [3, 4]\n"
          ]
        }
      ]
    },
    {
      "cell_type": "code",
      "source": [
        "from collections import Counter\n",
        "def mode (list1):\n",
        "    list_count = Counter(list1)\n",
        "    max_count = max(list_count.values())\n",
        "    modes = [num for num,count in list_count.items() if max_count == count]\n",
        "    return modes\n",
        "\n",
        "list1 = [1,2,2,3,44,44,44,2]\n",
        "mode(list1)\n"
      ],
      "metadata": {
        "colab": {
          "base_uri": "https://localhost:8080/"
        },
        "id": "SRv8tV3anSAH",
        "outputId": "98494093-75fe-4e5e-a0ff-855e962c3e26"
      },
      "execution_count": 28,
      "outputs": [
        {
          "output_type": "execute_result",
          "data": {
            "text/plain": [
              "[2, 44]"
            ]
          },
          "metadata": {},
          "execution_count": 28
        }
      ]
    },
    {
      "cell_type": "code",
      "source": [
        "import statistics as stat\n",
        "import numpy as np\n",
        "\n",
        "def mode(nums):\n",
        "  return stat.multimode(nums)\n",
        "\n",
        "def median(nums):\n",
        "  return stat.median(nums)\n",
        "\n",
        "def correlation(nums1,nums2):\n",
        "  return stat.correlation(nums1,nums2\n",
        "                          )\n",
        "\n",
        "list1 = np.random.standard_normal(size=44)\n",
        "list2 = np.random.standard_normal(size=44)\n",
        "\n",
        "print(f'The mode is: {mode(list1)}')\n",
        "print(f'The median is: {median(list1)}')\n",
        "print(f'The correlation between x and y is: {correlation(list1,list2)}')\n"
      ],
      "metadata": {
        "colab": {
          "base_uri": "https://localhost:8080/"
        },
        "id": "Q9Hi0Lvjtxsq",
        "outputId": "5d0639e4-c957-450a-c89c-a8c8d4a9cee2"
      },
      "execution_count": 48,
      "outputs": [
        {
          "output_type": "stream",
          "name": "stdout",
          "text": [
            "The mode is: [0.42255107242009954, 0.9807358881697446, 0.31194329082809025, -0.6311463006530635, -0.36010309077265185, -0.04453356908593234, -0.5134129584511589, -0.5006944938733211, -0.4705032844291729, 0.7906505684490917, -0.28238052302870165, -0.21080729543212703, -0.5813040817528674, 1.603062935938289, -0.9452318869569201, 0.013600096039746993, -0.44937126748245665, 1.0994416604561532, -0.0337239426348312, -0.24049244169303008, 0.3329431644971877, 0.8412407698356903, 0.3094930254529713, -0.6261741631909484, 0.5621065731101301, -0.45831917765387753, -1.167918847248018, -1.1690915075209785, 0.9928608673419329, -0.5579895242564882, 0.07865061203939838, -0.9755174944669506, -0.12724770716887648, -1.5520255301142822, 0.15883669118353438, -1.044524933048313, 1.850650207594698, 0.16502563049368302, -0.5853464994821873, -1.463132079767276, -0.46875592125586507, -0.2027268497207916, -0.07149192524860862, -0.6914045905595265]\n",
            "The median is: -0.22564986856257857\n",
            "The correlation between x and y is: 0.4476549336818224\n"
          ]
        }
      ]
    },
    {
      "cell_type": "code",
      "source": [
        "import matplotlib.pyplot as plt\n",
        "\n",
        "plt.hist(list1,bins=44)"
      ],
      "metadata": {
        "colab": {
          "base_uri": "https://localhost:8080/",
          "height": 665
        },
        "id": "M5j9T72uxA3a",
        "outputId": "ea14513a-bae0-4e3c-c61e-e32acda2d0f2"
      },
      "execution_count": 51,
      "outputs": [
        {
          "output_type": "execute_result",
          "data": {
            "text/plain": [
              "(array([1., 1., 0., 0., 2., 0., 1., 2., 0., 0., 0., 3., 3., 3., 3., 1., 2.,\n",
              "        2., 1., 3., 1., 1., 2., 0., 3., 1., 0., 1., 0., 0., 2., 0., 2., 0.,\n",
              "        1., 0., 0., 0., 0., 0., 1., 0., 0., 1.]),\n",
              " array([-1.55202553, -1.47469199, -1.39735845, -1.32002491, -1.24269137,\n",
              "        -1.16535783, -1.08802429, -1.01069075, -0.93335721, -0.85602367,\n",
              "        -0.77869014, -0.7013566 , -0.62402306, -0.54668952, -0.46935598,\n",
              "        -0.39202244, -0.3146889 , -0.23735536, -0.16002182, -0.08268828,\n",
              "        -0.00535474,  0.0719788 ,  0.14931234,  0.22664588,  0.30397942,\n",
              "         0.38131296,  0.4586465 ,  0.53598004,  0.61331358,  0.69064712,\n",
              "         0.76798065,  0.84531419,  0.92264773,  0.99998127,  1.07731481,\n",
              "         1.15464835,  1.23198189,  1.30931543,  1.38664897,  1.46398251,\n",
              "         1.54131605,  1.61864959,  1.69598313,  1.77331667,  1.85065021]),\n",
              " <BarContainer object of 44 artists>)"
            ]
          },
          "metadata": {},
          "execution_count": 51
        },
        {
          "output_type": "display_data",
          "data": {
            "text/plain": [
              "<Figure size 640x480 with 1 Axes>"
            ],
            "image/png": "[encoded data removed]"
          },
          "metadata": {}
        }
      ]
    },
    {
      "cell_type": "code",
      "source": [
        "stat.quantiles(list1)[0]"
      ],
      "metadata": {
        "colab": {
          "base_uri": "https://localhost:8080/"
        },
        "id": "gXSkX8BJn0k4",
        "outputId": "a4ccd09b-a651-42f8-e106-214118c75337"
      },
      "execution_count": 54,
      "outputs": [
        {
          "output_type": "execute_result",
          "data": {
            "text/plain": [
              "-0.5843358950498574"
            ]
          },
          "metadata": {},
          "execution_count": 54
        }
      ]
    },
    {
      "cell_type": "code",
      "source": [
        "# merge two lists\n",
        "def merge_list(list1, list2):\n",
        "\n",
        "    newlist = []\n",
        "    i = j = 0\n",
        "\n",
        "    while i < len(list1) and j < len(list2):\n",
        "        if list1[i] <= list2[j]:\n",
        "            newlist.append(list1[i])\n",
        "            i += 1\n",
        "        elif list1[i] > list2[j]:\n",
        "            newlist.append(list2[j])\n",
        "            j += 1\n",
        "    while i < len(list1):\n",
        "        newlist.append(list1[i])\n",
        "        i += 1\n",
        "    while  j < len(list2):\n",
        "        newlist.append(list2[j])\n",
        "        j += 1\n",
        "\n",
        "    return newlist\n"
      ],
      "metadata": {
        "id": "-vALJsg_vc-N"
      },
      "execution_count": null,
      "outputs": []
    },
    {
      "cell_type": "code",
      "source": [
        "# Given a dictionary with weights, write a function random_key that\n",
        "# returns a key at random with a probability proportional to the weights.\n",
        "\n",
        "import random\n",
        "\n",
        "def random_key(weights):\n",
        "    # Calculate the total weight\n",
        "    total_weight = sum(weights.values())\n",
        "\n",
        "    # Generate a random value between 0 and the total weight\n",
        "    random_value = random.uniform(0, total_weight)\n",
        "    current_weight = 0\n",
        "    for key, weight in weights.items():\n",
        "        current_weight += weight\n",
        "        if current_weight >= random_value:\n",
        "            return key\n",
        "\n",
        "    # If no key is found, raise an error\n",
        "    raise ValueError(\"No key found with the given weights.\")\n"
      ],
      "metadata": {
        "id": "scagj9esvXyb"
      },
      "execution_count": 47,
      "outputs": []
    },
    {
      "cell_type": "code",
      "source": [
        "## Given a list of tuples featuring names and grades on a test,\n",
        "## write a function normalize_grades to normalize the values of the grades to a linear scale between 0 and 1.\n",
        "\n",
        "def normal(grades):\n",
        "  min = min(grade for _,grade in grades)\n",
        "  max = max(grade for _,grade in grades)\n",
        "\n",
        "  scalar = [ (_,(grade-min)/(max - min)) for _,grade in grades]\n",
        "  return scalar\n",
        "\n",
        "\n",
        "\n"
      ],
      "metadata": {
        "id": "80bV3HCyO5pn"
      },
      "execution_count": 51,
      "outputs": []
    },
    {
      "cell_type": "code",
      "source": [],
      "metadata": {
        "id": "mRZ3iulcRcbv"
      },
      "execution_count": null,
      "outputs": []
    },
    {
      "cell_type": "code",
      "source": [
        "#“Suppose you are given a matrix of integers. Your task is to write a function that returns the sum of the elements in the matrix.\n",
        "\n",
        "def total(matrix):\n",
        "  summation = 0\n",
        "  for row in matrix:\n",
        "    for elements in row:\n",
        "      summation += elements\n",
        "  matrix = [[1, 2, 3], [4, 5, 6], [7, 8, 9]]\n",
        "  print(total(matrix))"
      ],
      "metadata": {
        "id": "7BhROpALRcyj"
      },
      "execution_count": 56,
      "outputs": []
    },
    {
      "cell_type": "code",
      "source": [
        "#Imagine you have been given an array of integers, and a query number k.\n",
        "# Your task is to write a function that finds all the triplets in the array that sum up to the query number k.\n",
        "\n",
        "def myfunction(arr,k):\n",
        "  n = len(arr)\n",
        "  mylist = []\n",
        "  for i,a in enumerate(arr):\n",
        "    if i > 0 and a == arr[i-1]:\n",
        "      continue\n",
        "\n",
        "    left = 0\n",
        "    right = n-1\n",
        "    while left < right:\n",
        "      if k ==  a + arr[left] + arr[right]:\n",
        "        mylist.append(i,left, right)\n",
        "        left += 1\n",
        "        right -= 1\n",
        "      elif k > a + arr[left] + arr[right]:\n",
        "        right -= 1\n",
        "      else:\n",
        "        left += 1\n",
        "\n",
        "    return mylist\n",
        "\n",
        "arr = [1, 2, 2, 3, 4, 5]\n",
        "k = 8\n",
        "myfunction(arr, k)\n",
        "\n",
        ""
      ],
      "metadata": {
        "colab": {
          "base_uri": "https://localhost:8080/"
        },
        "id": "2Hk5ireUS9-V",
        "outputId": "3234e633-fc6c-416e-e5a3-1c9f832faabb"
      },
      "execution_count": 67,
      "outputs": [
        {
          "output_type": "execute_result",
          "data": {
            "text/plain": [
              "[]"
            ]
          },
          "metadata": {},
          "execution_count": 67
        }
      ]
    },
    {
      "cell_type": "code",
      "source": [
        "# You are given two lists: a full list and a missing list. The full list contains a list of integers, while the missing list contains all the integers from the full list except for one.\n",
        "# Your task is to create a function that finds the missing element.\n",
        "\n",
        "def missingelement(full_list,missing_list):\n",
        "  total_of_full_list = sum(full_list)\n",
        "  total_of_missing_list = sum(missing_list)\n",
        "\n",
        "  return total_of_full_list - total_of_missing_list\n",
        "\n",
        "#OR\n",
        "\n",
        "def find_missing_element(full_list, missing_list):\n",
        "\n",
        "    # Use a set to efficiently track unique elements and their occurrences\n",
        "    full_set = set(full_list)\n",
        "    missing_set = set(missing_list)\n",
        "\n",
        "    # Find the element present in the full set but not in the missing set\n",
        "    missing_element = full_set.difference(missing_set).pop()\n",
        "\n",
        "    return missing_element\n",
        "\n",
        "full_list = [1, 2, 3, 4, 5]\n",
        "missing_list = [1, 2, 3, 5]\n",
        "\n",
        "missing_element = find_missing_element(full_list, missing_list)\n",
        "\n",
        "print(f\"The missing element is: {missing_element}\")\n"
      ],
      "metadata": {
        "colab": {
          "base_uri": "https://localhost:8080/"
        },
        "id": "c0vq2Yi4W__A",
        "outputId": "c1b50bb4-6c60-4686-f7f3-bc44ac9d6814"
      },
      "execution_count": 69,
      "outputs": [
        {
          "output_type": "stream",
          "name": "stdout",
          "text": [
            "The missing element is: 4\n"
          ]
        }
      ]
    },
    {
      "cell_type": "code",
      "source": [
        "from scipy.stats import mannwhitneyu\n",
        "\n",
        "# Assuming you have two lists of comments for Group A and Group B\n",
        "group_a_comments = [10, 15, 20, 25, 30]\n",
        "group_b_comments = [5, 10, 15, 20, 25]\n",
        "\n",
        "# Perform Mann-Whitney U test\n",
        "statistic, p_value = mannwhitneyu(group_a_comments, group_b_comments)\n",
        "\n",
        "# Print the results\n",
        "print(f\"U Statistic: {statistic}\")\n",
        "print(f\"P-value: {p_value}\")\n",
        "\n",
        "# Make a decision based on the p-value and significance level\n",
        "if p_value < 0.05:\n",
        "    print(\"Reject the null hypothesis - There is a significant difference.\")\n",
        "else:\n",
        "    print(\"Fail to reject the null hypothesis - There is no significant difference.\")\n"
      ],
      "metadata": {
        "colab": {
          "base_uri": "https://localhost:8080/"
        },
        "id": "juIqd06VmR2H",
        "outputId": "30ce6b3d-6969-47f0-a3a1-dac210071ba1"
      },
      "execution_count": 1,
      "outputs": [
        {
          "output_type": "stream",
          "name": "stdout",
          "text": [
            "U Statistic: 17.0\n",
            "P-value: 0.39761475195653073\n",
            "Fail to reject the null hypothesis - There is no significant difference.\n"
          ]
        }
      ]
    },
    {
      "cell_type": "code",
      "source": [
        "import pandas as pd\n",
        "list1 = [2,3,4,5]\n",
        "list2 = [3,4,5,22]\n",
        "# Create a DataFrame\n",
        "df = pd.DataFrame({'list1': list1, 'list2': list2})\n",
        "\n",
        "# Calculate the correlation matrix\n",
        "correlation_matrix = df.corr()\n",
        "\n",
        "# Extract the correlation coefficient between the two lists\n",
        "correlation_coefficient = correlation_matrix.loc['list1', 'list2']\n",
        "\n",
        "# Print the result\n",
        "print(f\"Pearson Correlation Coefficient: {correlation_coefficient}\")\n"
      ],
      "metadata": {
        "colab": {
          "base_uri": "https://localhost:8080/"
        },
        "id": "VHd54NBoqkWf",
        "outputId": "b0c82b28-51d7-4537-8a96-09dc2e6fcc8c"
      },
      "execution_count": 7,
      "outputs": [
        {
          "output_type": "stream",
          "name": "stdout",
          "text": [
            "Pearson Correlation Coefficient: 0.8285714285714286\n"
          ]
        }
      ]
    },
    {
      "cell_type": "code",
      "source": [
        "print(correlation_matrix)"
      ],
      "metadata": {
        "colab": {
          "base_uri": "https://localhost:8080/"
        },
        "id": "OWiQCPllsAxv",
        "outputId": "13148d13-b6a3-4189-d18b-c12bbb781c5a"
      },
      "execution_count": 8,
      "outputs": [
        {
          "output_type": "stream",
          "name": "stdout",
          "text": [
            "          list1     list2\n",
            "list1  1.000000  0.828571\n",
            "list2  0.828571  1.000000\n"
          ]
        }
      ]
    },
    {
      "cell_type": "code",
      "source": [
        "def mean(x):\n",
        "  return sum(x)/len(x)\n",
        "\n",
        "def sd(x):\n",
        "  m = mean(x)\n",
        "  ss  = sum((i-m)**2 for i in x)\n",
        "  return (ss/len(x))**0.5\n",
        "\n",
        "def corr(x,y):\n",
        "  x_mean = mean(x)\n",
        "  y_mean = mean(y)\n",
        "  xy_d = []\n",
        "  for i,j in zip(x,y):\n",
        "    x_d = i - x_mean\n",
        "    y_d = j - y_mean\n",
        "    xy_d.append(x_d*y_d)\n",
        "  return mean(xy_d)/ (sd(y) * sd(x))"
      ],
      "metadata": {
        "id": "nWT5LYOiquxK"
      },
      "execution_count": 2,
      "outputs": []
    },
    {
      "cell_type": "code",
      "source": [
        "x = [2,3,4,5]\n",
        "y = [3,4,5,22]\n",
        "\n",
        "print(corr(x,y))"
      ],
      "metadata": {
        "colab": {
          "base_uri": "https://localhost:8080/"
        },
        "outputId": "1a9502d2-a956-4ccd-d6bf-09e8b0a95c08",
        "id": "mDVEmNGnkWNG"
      },
      "execution_count": 3,
      "outputs": [
        {
          "output_type": "stream",
          "name": "stdout",
          "text": [
            "0.8285714285714286\n"
          ]
        }
      ]
    },
    {
      "cell_type": "code",
      "source": [
        "def mean(x):\n",
        "  return sum(x)/len(x)\n",
        "\n",
        "def sd(x):\n",
        "  m = mean(x)\n",
        "  ss  = sum((i-m)**2 for i in x)\n",
        "  return (ss/len(x))**0.5\n",
        "\n",
        "def corr(x,y):\n",
        "  x_mean = mean(x)\n",
        "  y_mean = mean(y)\n",
        "  xy_d = []\n",
        "  for i in range(len(x)):\n",
        "    x_d = x[i] - x_mean\n",
        "    y_d = y[i] - y_mean\n",
        "    xy_d.append(x_d*y_d)\n",
        "  return mean(xy_d)/ (sd(y) * sd(x))"
      ],
      "metadata": {
        "id": "235HRn3MTJDf"
      },
      "execution_count": 1,
      "outputs": []
    },
    {
      "cell_type": "code",
      "source": [],
      "metadata": {
        "id": "eFjWTOYHkJgU"
      },
      "execution_count": null,
      "outputs": []
    },
    {
      "cell_type": "code",
      "source": [
        "x = [2,3,4,5]\n",
        "y = [3,4,5,22]\n",
        "\n",
        "print(corr(x,y))"
      ],
      "metadata": {
        "colab": {
          "base_uri": "https://localhost:8080/"
        },
        "id": "INU2EVLLQ6s_",
        "outputId": "c223464e-eab7-4841-e92f-650e6eee2116"
      },
      "execution_count": 7,
      "outputs": [
        {
          "output_type": "stream",
          "name": "stdout",
          "text": [
            "0.8285714285714286\n"
          ]
        }
      ]
    },
    {
      "cell_type": "code",
      "source": [
        "'''The probability that it will rain tomorrow is dependent on whether or not it is raining today and whether or not it rained yesterday.\n",
        "\n",
        "If it rained yesterday and today, there is a 20% chance it will rain tomorrow. If it rained one of the days, there is a 60% chance it will rain tomorrow.\n",
        "\n",
        "If it rained neither today nor yesterday, there is a 20% chance it will rain tomorrow.\n",
        "\n",
        "Given that it is raining today and that it rained yesterday, write a function rain_days to calculate the probability that it will rain on the nth day after today.\n",
        "'''\n",
        "\n",
        "def rain_days(n):\n"
      ],
      "metadata": {
        "id": "c-4FAaoKTLbh"
      },
      "execution_count": null,
      "outputs": []
    },
    {
      "cell_type": "code",
      "source": [],
      "metadata": {
        "id": "YhpyFZOattAE"
      },
      "execution_count": null,
      "outputs": []
    },
    {
      "cell_type": "code",
      "source": [],
      "metadata": {
        "id": "5JMnEOzpRGeB"
      },
      "execution_count": null,
      "outputs": []
    }
  ]
}